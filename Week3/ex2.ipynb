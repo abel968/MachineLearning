{
 "cells": [
  {
   "cell_type": "markdown",
   "metadata": {},
   "source": [
    "## Week3  逻辑回归(主要用于分类)\n",
    "- Sigmoid Function(Logistic Function)\n",
    "$$g(z)=\\frac{1}{1+e^{-z}}$$\n",
    "- Decision Boundary  \n",
    "将两类数据分开的函数  \n",
    "- Cost Function  \n",
    "使用该损失函数的[原因](https://blog.csdn.net/xiaoxiangzi222/article/details/55097570)  \n",
    "若使用线性的损失函数, 由于此时是Logistic Function, 会造成多个极值点, 容易到收敛到局部最小值.所以使用: \n",
    "$$J(\\theta)=\\frac{1}{m}\\sum_1^mCost(h_\\theta(x^{(i)}, y^{(i)})$$\n",
    "$$Cost(h_\\theta(x), y)=\\begin{cases}-log(h_\\theta(x))\\ \\ \\ if\\ y = 1\\\\\n",
    "                          -log(1-h_\\theta(x))\\ \\ \\ if\\ y = 0\\\\\n",
    "                          \\end{cases}$$\n",
    "该函数也可以写成:  \n",
    "$$J(\\theta)=-\\frac{1}{m}\\sum_1^m[y^{(i)}log(h_\\theta(x^{(i)}))+(1-y^{(i)})log(1-h_\\theta(x^{(i)}))]$$\n",
    "注意该损失函数是凸函数, 至于原因不知道............\n",
    "- 梯度下降  \n",
    "对该损失函数求导之后发现其导数与线性回归形式一致, 为:  \n",
    "$$\\theta_j = \\theta_j-\\frac{\\alpha}{m}\\sum_{i=1}^m(h_\\theta(x^{(i)})-y^{(i)})x_j^{(i)}$$\n",
    "向量化后为:  \n",
    "$$\\theta = \\theta - \\frac{\\alpha}{m}X^T(g(X\\theta)-\\vec y)$$\n",
    "- Conjugate gradient, BFGS, L-BFGS  \n",
    "三种比梯度下降法更快的求最优值方法, 且不需要设定学习率. 这三种方法一般调用库即可, 自己只需要编写损失函数以及损失函数的偏导函数.\n",
    "- 过拟合的解决办法  \n",
    "  1. 减少特征数量\n",
    "  2. 正则化(减少参数的量级)  在原有的损失函数加上 &nbsp; $\\lambda \\sum_{j=1}^n\\theta_j^2$  注意是从j=1开始, 因为$\\theta_0$对应的$x_0$都是1\n",
    "- 线性回归的正则化  \n",
    "将正则化加入损失函数, 求其导数整理后得: \n",
    "$$\\theta_0 = \\theta_0-\\alpha\\frac{1}{m}\\sum_{i=1}^m(h_\\theta(x^{(i)})-y^{(i)})x_0^{(i)}$$\n",
    "$$\\theta_j = \\theta_j(1-\\alpha\\frac{\\lambda}{m})-\\alpha\\frac{1}{m}\\sum_{i=1}^m(h_\\theta(x^{(i)})-y^{(i)})x_j^{(i)}$$\n",
    "别的都和之前的一样, 只是每次$\\theta$(除了$\\theta_0$)都会乘一个$1-\\alpha\\frac{\\lambda}{m}$, 易知该数为小于1的数  \n",
    "对于Normal Equation, 也有:  \n",
    "$$\\theta = (X^TX+\\lambda L)^{-1}X^Ty$$\n",
    "将一个(n+1) * (n+1)的单位矩阵, 第一个元素置为0, 即得到$L$. $X^TX$可能是奇异矩阵, 不可逆, 但是$X^TX+\\lambda L$将会是可逆的  \n",
    "- 逻辑回归正则化的损失函数的导数与线性回归的形式一致. (只是$h_\\theta(x^{(i)}不同$)\n"
   ]
  },
  {
   "cell_type": "code",
   "execution_count": 1,
   "metadata": {},
   "outputs": [
    {
     "name": "stdout",
     "output_type": "stream",
     "text": [
      "      score1     score2  admitted\n",
      "0  34.623660  78.024693         0\n",
      "1  30.286711  43.894998         0\n",
      "2  35.847409  72.902198         0\n",
      "3  60.182599  86.308552         1\n",
      "4  79.032736  75.344376         1\n"
     ]
    }
   ],
   "source": [
    "%matplotlib inline\n",
    "import numpy as np\n",
    "import pandas as pd\n",
    "import matplotlib.pyplot as plt\n",
    "import scipy.optimize as op\n",
    "# 读入数据, 特征为两次考试分数  标签为是否被大学承认\n",
    "data1 = pd.read_csv('data/ex2data1.txt', names=['score1', 'score2', 'admitted'])\n",
    "print(data1.head())"
   ]
  },
  {
   "cell_type": "code",
   "execution_count": 2,
   "metadata": {},
   "outputs": [
    {
     "data": {
      "text/plain": [
       "<matplotlib.legend.Legend at 0x7f35a5eae400>"
      ]
     },
     "execution_count": 2,
     "metadata": {},
     "output_type": "execute_result"
    },
    {
     "data": {
      "image/png": "[encoded data removed]",
      "text/plain": [
       "<Figure size 432x288 with 1 Axes>"
      ]
     },
     "metadata": {
      "needs_background": "light"
     },
     "output_type": "display_data"
    }
   ],
   "source": [
    "# 使用X保存两次分数, Y保存对应label\n",
    "X = data1.iloc[:, :-1].values\n",
    "Y = data1.iloc[:, [-1]].values\n",
    "# label 为1的成绩\n",
    "pos = X[Y[:,0]==1, :]\n",
    "# label 为0的成绩\n",
    "nag = X[Y[:,0]==0, :]\n",
    "plt.scatter(pos[:,0], pos[:,1], c='r', marker='+', label='Admitted')\n",
    "plt.scatter(nag[:,0], nag[:,1], c='b', marker='x', label='Not admitted')\n",
    "plt.ylabel('Exam 2 score')\n",
    "plt.xlabel('Exam 1 score')\n",
    "plt.xlim([30,100])\n",
    "plt.ylim([30,100])\n",
    "plt.legend(loc='best')"
   ]
  },
  {
   "cell_type": "code",
   "execution_count": 3,
   "metadata": {},
   "outputs": [],
   "source": [
    "# 初始化\n",
    "initial_theta = np.zeros((3,1))\n",
    "m = len(Y)\n",
    "X = np.c_[np.ones(m), X]"
   ]
  },
  {
   "cell_type": "code",
   "execution_count": 4,
   "metadata": {},
   "outputs": [
    {
     "name": "stdout",
     "output_type": "stream",
     "text": [
      "[[0.69314718]]\n",
      "[ -0.1        -12.00921659 -11.26284221]\n",
      "[[0.21833019]]\n",
      "[0.04290299 2.56623412 2.64679737]\n"
     ]
    }
   ],
   "source": [
    "# 定义sigmoid函数, Cost函数和Gradient\n",
    "sigmoid_func = lambda x: 1/(1+np.exp(-x))\n",
    "def Cost(theta, X, Y):\n",
    "    # X为m*n Y为m*1 theta为n*1\n",
    "    J = -1/len(Y)*((Y.T.dot(np.log(sigmoid_func(X.dot(theta))))) + (1.0-Y).T.dot(np.log(1-sigmoid_func(X.dot(theta)))))\n",
    "    return J\n",
    "def Gradient(theta, X, Y):\n",
    "    # X为m*n Y为m*1 theta为n*1\n",
    "    m, n = X.shape\n",
    "    theta=theta.reshape((n,1))\n",
    "    return (1.0/len(Y)*np.dot(X.T, sigmoid_func(X.dot(theta)) - Y)).flatten()\n",
    "# 检查Cost函数和Gradient是否正确\n",
    "print(Cost(initial_theta, X, Y))\n",
    "print(Gradient(initial_theta, X, Y))\n",
    "test_theta = np.array([[-24], [0.2], [0.2]])\n",
    "print(Cost(test_theta, X, Y))\n",
    "print(Gradient(test_theta, X, Y))\n"
   ]
  },
  {
   "cell_type": "code",
   "execution_count": 5,
   "metadata": {},
   "outputs": [
    {
     "name": "stdout",
     "output_type": "stream",
     "text": [
      "     fun: array([0.2034977])\n",
      "     jac: array([9.22161957e-09, 1.05799597e-07, 4.83191247e-07])\n",
      " message: 'Local minimum reached (|pg| ~= 0)'\n",
      "    nfev: 36\n",
      "     nit: 17\n",
      "  status: 0\n",
      " success: True\n",
      "       x: array([-25.16131855,   0.20623159,   0.20147149])\n"
     ]
    }
   ],
   "source": [
    "# 在课程中是使用octive中的fminunc函数, 这里使用scipy.optimize中的minimize来替代\n",
    "\n",
    "result = op.minimize(fun=Cost, x0=initial_theta.flatten(), args=(X, Y), method='TNC', jac=Gradient)\n",
    "#result_theta = op.minimize(fun=Cost, x0=initial_theta.flatten(), args=(X, Y), method='TNC', jac=Gradient)\n",
    "print(result)  #结果与pdf中一致\n",
    "result_theta = result['x']\n",
    "                "
   ]
  },
  {
   "cell_type": "code",
   "execution_count": 11,
   "metadata": {
    "scrolled": true
   },
   "outputs": [
    {
     "data": {
      "text/plain": [
       "<matplotlib.legend.Legend at 0x7f35a5d527f0>"
      ]
     },
     "execution_count": 11,
     "metadata": {},
     "output_type": "execute_result"
    },
    {
     "data": {
      "image/png": "[encoded data removed]",
      "text/plain": [
       "<Figure size 432x288 with 1 Axes>"
      ]
     },
     "metadata": {
      "needs_background": "light"
     },
     "output_type": "display_data"
    }
   ],
   "source": [
    "# 画出Decision Boundary\n",
    "plt.scatter(pos[:,0], pos[:,1], c='r', marker='+', label='Admitted')\n",
    "plt.scatter(nag[:,0], nag[:,1], c='b', marker='x', label='Not admitted')\n",
    "plt.ylabel('Exam 2 score')\n",
    "plt.xlabel('Exam 1 score')\n",
    "plt.xlim([30,100])\n",
    "plt.ylim([30,100])\n",
    "x1_plot = np.linspace(30, 100)\n",
    "# theta0+theta1*x1+theta2*x2=0\n",
    "x2_plot = -result_theta[0]-result_theta[1]*x1_plot\n",
    "x2_plot /= result_theta[2]\n",
    "plt.plot(x1_plot, x2_plot)\n",
    "plt.legend(loc='best')"
   ]
  },
  {
   "cell_type": "code",
   "execution_count": 30,
   "metadata": {},
   "outputs": [
    {
     "name": "stdout",
     "output_type": "stream",
     "text": [
      "0.7762906222668583\n",
      "0.89\n"
     ]
    }
   ],
   "source": [
    "# 预测\n",
    "# 先预测 exam1=45 exam2=85 admit可能性是否为0.776\n",
    "predict1 = np.array([1, 45, 85])\n",
    "print(sigmoid_func((predict1*result_theta).sum()))\n",
    "# 预测训练集的平均准确率 是否为0.89\n",
    "predict = sigmoid_func((X*result_theta).sum(axis=1))>0.5  #True代表类型1, false代表类型2\n",
    "print((Y[:,0] == predict).mean())"
   ]
  }
 ],
 "metadata": {
  "kernelspec": {
   "display_name": "Python 3",
   "language": "python",
   "name": "python3"
  },
  "language_info": {
   "codemirror_mode": {
    "name": "ipython",
    "version": 3
   },
   "file_extension": ".py",
   "mimetype": "text/x-python",
   "name": "python",
   "nbconvert_exporter": "python",
   "pygments_lexer": "ipython3",
   "version": "3.7.1"
  }
 },
 "nbformat": 4,
 "nbformat_minor": 2
}
