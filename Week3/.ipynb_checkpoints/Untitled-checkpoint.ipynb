{
 "cells": [
  {
   "cell_type": "markdown",
   "metadata": {},
   "source": [
    "## Week3  逻辑回归(主要用于分类)\n",
    "- Sigmoid Function(Logistic Function)\n",
    "$$g(z)=\\frac{1}{1+e^{-z}}$$\n",
    "- Decision Boundary  \n",
    "将两类数据分开的函数  \n",
    "- Cost Function  \n",
    "使用该损失函数的[原因](https://blog.csdn.net/xiaoxiangzi222/article/details/55097570):\n",
    "若使用线性的损失函数, 由于此时是Logistic Function, 会造成多个极值点, 容易到收敛到局部最小值.所以使用: \n",
    "$$J(\\theta)=\\frac{1}{m}\\sum_1^mCost(h_\\theta(x^{(i)}, y^{(i)})$$\n",
    "$$Cost(h_\\theta(x), y)=\\begin{cases}-log(h_\\theta(x))\\ \\ \\ if\\ y = 1\\\\\n",
    "                          -log(1-h_\\theta(x))\\ \\ \\ if\\ y = 0\\\\\n",
    "                          \\end{cases}$$\n",
    "该函数也可以写成:  \n",
    "$$J(\\theta)=\\frac{1}{m}\\sum_1^m[y^{(i)}log(h_\\theta(x^{(i)}))+(1-y^{(i)})log(1-h_\\theta(x^{(i)}))]$$\n",
    "注意该损失函数是凸函数, 至于原因不知道............"
   ]
  },
  {
   "cell_type": "code",
   "execution_count": 12,
   "metadata": {},
   "outputs": [
    {
     "name": "stdout",
     "output_type": "stream",
     "text": [
      "   x0  x1  x2\n",
      "0   0   1   2\n",
      "1   3   4   5\n",
      "2   6   7   8\n",
      "3   9  10  11\n",
      "   x2  x1  x0\n",
      "0   2   1   0\n",
      "1   5   4   0\n",
      "2   8   7   0\n",
      "3  11  10   0\n",
      "   x0  x1  x2\n",
      "0   0   1   2\n",
      "1   3   4   5\n",
      "2   6   7   8\n",
      "3   9  10  11\n"
     ]
    }
   ],
   "source": [
    "import numpy as np\n",
    "import pandas as pd\n",
    "\n",
    "df = pd.DataFrame(np.arange(12).reshape(4,3), columns=['x'+str(i) for i in range(3)])\n",
    "print(df)\n",
    "df2 = df.reindex(['x2', 'x1', 'x0'], axis=1)\n",
    "df2['x0'] = 0\n",
    "print(df2)\n",
    "print(df)  "
   ]
  }
 ],
 "metadata": {
  "kernelspec": {
   "display_name": "Python 3",
   "language": "python",
   "name": "python3"
  },
  "language_info": {
   "codemirror_mode": {
    "name": "ipython",
    "version": 3
   },
   "file_extension": ".py",
   "mimetype": "text/x-python",
   "name": "python",
   "nbconvert_exporter": "python",
   "pygments_lexer": "ipython3",
   "version": "3.7.1"
  }
 },
 "nbformat": 4,
 "nbformat_minor": 2
}
