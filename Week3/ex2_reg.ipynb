{
 "cells": [
  {
   "cell_type": "code",
   "execution_count": 1,
   "metadata": {},
   "outputs": [
    {
     "data": {
      "image/png": "[encoded data removed]",
      "text/plain": [
       "<Figure size 432x288 with 1 Axes>"
      ]
     },
     "metadata": {
      "needs_background": "light"
     },
     "output_type": "display_data"
    }
   ],
   "source": [
    "%matplotlib inline\n",
    "import numpy as np\n",
    "import pandas as pd\n",
    "import matplotlib.pyplot as plt\n",
    "import scipy.optimize as op\n",
    "\n",
    "data2 = pd.read_csv('data/ex2data2.txt', names=['test1', 'test2', 'label'])\n",
    "X = data2.iloc[:, 0:2].values\n",
    "Y = data2.iloc[:, 2:].values\n",
    "\n",
    "# 绘制y=1\n",
    "plt.scatter(X[Y[:,0]==1, 0], X[Y[:,0]==1, 1], c='b', marker='+', label='y=1')\n",
    "# 绘制y=0\n",
    "plt.scatter(X[Y[:,0]==0, 0], X[Y[:,0]==0, 1], c='y', marker='o', label='y=0')\n",
    "plt.legend(loc='best')\n",
    "plt.show()"
   ]
  },
  {
   "cell_type": "code",
   "execution_count": 2,
   "metadata": {},
   "outputs": [
    {
     "name": "stdout",
     "output_type": "stream",
     "text": [
      "[ 1.  2.  1.  4.  2.  1.  8.  4.  2.  1. 16.  8.  4.  2.  1. 32. 16.  8.\n",
      "  4.  2.  1. 64. 32. 16.  8.  4.  2.  1.]\n"
     ]
    }
   ],
   "source": [
    "# 将2维向量转成28维向量  即假设对应的Decision Boundary函数为六次多项式\n",
    "def mapFeature(x):\n",
    "    assert x.ndim == 1\n",
    "    assert x.shape[0] == 2\n",
    "    res = np.zeros(28)\n",
    "    k = 0\n",
    "    for i in range(7):\n",
    "        for j in range(i+1):\n",
    "            res[k] = x[0]**(i-j) * x[1]**j\n",
    "            k += 1\n",
    "    return res\n",
    "test_i = mapFeature(np.array([2,1]))\n",
    "print (test_i)"
   ]
  },
  {
   "cell_type": "code",
   "execution_count": 3,
   "metadata": {},
   "outputs": [
    {
     "name": "stdout",
     "output_type": "stream",
     "text": [
      "[[ 1.00000000e+00  5.12670000e-02  6.99560000e-01  2.62830529e-03\n",
      "   3.58643425e-02  4.89384194e-01  1.34745327e-04  1.83865725e-03\n",
      "   2.50892595e-02  3.42353606e-01  6.90798869e-06  9.42624411e-05\n",
      "   1.28625106e-03  1.75514423e-02  2.39496889e-01  3.54151856e-07\n",
      "   4.83255257e-06  6.59422333e-05  8.99809795e-04  1.22782870e-02\n",
      "   1.67542444e-01  1.81563032e-08  2.47750473e-07  3.38066048e-06\n",
      "   4.61305487e-05  6.29470940e-04  8.58939846e-03  1.17205992e-01]\n",
      " [ 1.00000000e+00 -9.27420000e-02  6.84940000e-01  8.60107856e-03\n",
      "  -6.35227055e-02  4.69142804e-01 -7.97681228e-04  5.89122275e-03\n",
      "  -4.35092419e-02  3.21334672e-01  7.39785525e-05 -5.46363780e-04\n",
      "   4.03513411e-03 -2.98012201e-02  2.20094970e-01 -6.86091891e-06\n",
      "   5.06708697e-05 -3.74226408e-04  2.76382476e-03 -2.04120477e-02\n",
      "   1.50751849e-01  6.36295342e-07 -4.69931780e-06  3.47065055e-05\n",
      "  -2.56322636e-04  1.89305413e-03 -1.39810280e-02  1.03255971e-01]\n",
      " [ 1.00000000e+00 -2.13710000e-01  6.92250000e-01  4.56719641e-02\n",
      "  -1.47940747e-01  4.79210063e-01 -9.76055545e-03  3.16164171e-02\n",
      "  -1.02411982e-01  3.31733166e-01  2.08592830e-03 -6.75674451e-03\n",
      "   2.18864648e-02 -7.08946949e-02  2.29642284e-01 -4.45783738e-04\n",
      "   1.44398387e-03 -4.67735639e-03  1.51509052e-02 -4.90768525e-02\n",
      "   1.58969871e-01  9.52684426e-05 -3.08593793e-04  9.99597833e-04\n",
      "  -3.23789996e-03  1.04882142e-02 -3.39734512e-02  1.10046893e-01]\n",
      " [ 1.00000000e+00 -3.75000000e-01  5.02190000e-01  1.40625000e-01\n",
      "  -1.88321250e-01  2.52194796e-01 -5.27343750e-02  7.06204687e-02\n",
      "  -9.45730485e-02  1.26649705e-01  1.97753906e-02 -2.64826758e-02\n",
      "   3.54648932e-02 -4.74936392e-02  6.36022152e-02 -7.41577148e-03\n",
      "   9.93100342e-03 -1.32993350e-02  1.78101147e-02 -2.38508307e-02\n",
      "   3.19403964e-02  2.78091431e-03 -3.72412628e-03  4.98725061e-03\n",
      "  -6.67879302e-03  8.94406151e-03 -1.19776487e-02  1.60401477e-02]\n",
      " [ 1.00000000e+00 -5.13250000e-01  4.65640000e-01  2.63425562e-01\n",
      "  -2.38989730e-01  2.16820610e-01 -1.35203170e-01  1.22661479e-01\n",
      "  -1.11283178e-01  1.00960349e-01  6.93930270e-02 -6.29560041e-02\n",
      "   5.71160910e-02 -5.18178989e-02  4.70111767e-02 -3.56159711e-02\n",
      "   3.23121691e-02 -2.93148337e-02  2.65955366e-02 -2.41284865e-02\n",
      "   2.18902843e-02  1.82798972e-02 -1.65842208e-02  1.50458384e-02\n",
      "  -1.36501592e-02  1.23839457e-02 -1.12351884e-02  1.01929920e-02]]\n"
     ]
    }
   ],
   "source": [
    "# X从m*2 变成m*28\n",
    "X = np.apply_along_axis(mapFeature, 1, X)\n",
    "print(X[:5, :])"
   ]
  },
  {
   "cell_type": "code",
   "execution_count": 4,
   "metadata": {},
   "outputs": [],
   "source": [
    "sigmoid = lambda x : 1/(1+np.exp(-x))\n",
    "def costFunctionReg(theta, X, y, ld):\n",
    "    # theta is n*1, X m*n, y m*1\n",
    "    m, n = X.shape\n",
    "    theta = theta.reshape(n,1)\n",
    "    regCost = ld/(2.0*m)*np.dot(theta[1:].T, theta[1:])\n",
    "    logisCost = -1.0/m*(np.dot(y.T, np.log(sigmoid(X.dot(theta)))) + np.dot((1.0-y).T, np.log(1.0-sigmoid(X.dot(theta)))))\n",
    "    return logisCost+regCost\n",
    "def gradientReg(theta, X, y, ld):\n",
    "    m, n = X.shape\n",
    "    theta = theta.reshape(n,1)\n",
    "    res = (1.0/m)*np.dot(X.T, (sigmoid(X.dot(theta)) - y))\n",
    "    res += ld/m*theta\n",
    "    res[0] -= ld/m*theta[0]     # 因为theta0不需要正则化, 所以要将其减掉\n",
    "    return res"
   ]
  },
  {
   "cell_type": "code",
   "execution_count": 5,
   "metadata": {},
   "outputs": [
    {
     "name": "stdout",
     "output_type": "stream",
     "text": [
      "[[0.69314718]]\n",
      "[[8.47457627e-03]\n",
      " [1.87880932e-02]\n",
      " [7.77711864e-05]\n",
      " [5.03446395e-02]\n",
      " [1.15013308e-02]]\n",
      "[[3.16450933]]\n",
      "[[0.34604507]\n",
      " [0.16135192]\n",
      " [0.19479576]\n",
      " [0.22686278]\n",
      " [0.09218568]]\n"
     ]
    }
   ],
   "source": [
    "# 检查损失函数和梯度下降函数是否编写正确\n",
    "initial_theta = np.zeros((X.shape[1], 1))\n",
    "ld = 1\n",
    "print(costFunctionReg(initial_theta, X, Y, ld))\n",
    "print(gradientReg(initial_theta, X, Y, ld)[:5])\n",
    "test_theta = np.ones_like(initial_theta)\n",
    "ld = 10.0\n",
    "print(costFunctionReg(test_theta, X, Y, ld))\n",
    "print(gradientReg(test_theta, X, Y, ld)[:5])\n"
   ]
  },
  {
   "cell_type": "code",
   "execution_count": 6,
   "metadata": {},
   "outputs": [
    {
     "name": "stdout",
     "output_type": "stream",
     "text": [
      "     fun: array([[0.52900273]])\n",
      "     jac: array([[-2.15093692e-06],\n",
      "       [ 6.79368752e-07],\n",
      "       [-3.49577679e-07],\n",
      "       [ 8.75866535e-07],\n",
      "       [-4.06259245e-08],\n",
      "       [-9.34214065e-07],\n",
      "       [-5.14591258e-07],\n",
      "       [ 1.69726365e-08],\n",
      "       [ 1.53770005e-08],\n",
      "       [-9.73145775e-07],\n",
      "       [ 6.97193774e-08],\n",
      "       [ 3.54902042e-08],\n",
      "       [-2.79932384e-07],\n",
      "       [ 1.79650246e-07],\n",
      "       [ 2.32911234e-07],\n",
      "       [ 1.47163912e-07],\n",
      "       [-2.12233745e-07],\n",
      "       [ 6.16797892e-07],\n",
      "       [-9.25488334e-08],\n",
      "       [-5.27755508e-08],\n",
      "       [-1.48190959e-06],\n",
      "       [ 2.31245644e-07],\n",
      "       [ 1.80336051e-07],\n",
      "       [-1.31245933e-07],\n",
      "       [-7.18506725e-08],\n",
      "       [-4.12204566e-07],\n",
      "       [ 1.66289338e-08],\n",
      "       [-7.35101442e-07]])\n",
      " message: 'Converged (|f_n-f_(n-1)| ~= 0)'\n",
      "    nfev: 32\n",
      "     nit: 7\n",
      "  status: 1\n",
      " success: True\n",
      "       x: array([ 1.27271027,  0.62529965,  1.18111686, -2.019874  , -0.91743188,\n",
      "       -1.43166931,  0.12393226, -0.36553118, -0.35725405, -0.17516293,\n",
      "       -1.45817008, -0.05098418, -0.61558558, -0.27469166, -1.19271298,\n",
      "       -0.24217841, -0.20603303, -0.04466177, -0.27778947, -0.29539514,\n",
      "       -0.45645982, -1.04319155,  0.02779373, -0.29244863,  0.01555758,\n",
      "       -0.32742404, -0.14389149, -0.92467487])\n"
     ]
    }
   ],
   "source": [
    "result = op.minimize(fun=costFunctionReg, x0=initial_theta.flatten(), args=(X, Y, 1), method='TNC', jac=gradientReg)\n",
    "print(result)"
   ]
  },
  {
   "cell_type": "code",
   "execution_count": 7,
   "metadata": {},
   "outputs": [
    {
     "name": "stdout",
     "output_type": "stream",
     "text": [
      "最优的theta为: [[ 1.27271027]\n",
      " [ 0.62529965]\n",
      " [ 1.18111686]\n",
      " [-2.019874  ]\n",
      " [-0.91743188]\n",
      " [-1.43166931]\n",
      " [ 0.12393226]\n",
      " [-0.36553118]\n",
      " [-0.35725405]\n",
      " [-0.17516293]\n",
      " [-1.45817008]\n",
      " [-0.05098418]\n",
      " [-0.61558558]\n",
      " [-0.27469166]\n",
      " [-1.19271298]\n",
      " [-0.24217841]\n",
      " [-0.20603303]\n",
      " [-0.04466177]\n",
      " [-0.27778947]\n",
      " [-0.29539514]\n",
      " [-0.45645982]\n",
      " [-1.04319155]\n",
      " [ 0.02779373]\n",
      " [-0.29244863]\n",
      " [ 0.01555758]\n",
      " [-0.32742404]\n",
      " [-0.14389149]\n",
      " [-0.92467487]]\n"
     ]
    }
   ],
   "source": [
    "theta = result['x'].reshape(28,1)\n",
    "print('最优的theta为:', theta)"
   ]
  },
  {
   "cell_type": "code",
   "execution_count": 18,
   "metadata": {},
   "outputs": [
    {
     "data": {
      "image/png": "[encoded data removed]",
      "text/plain": [
       "<Figure size 432x288 with 1 Axes>"
      ]
     },
     "metadata": {
      "needs_background": "light"
     },
     "output_type": "display_data"
    }
   ],
   "source": [
    "def plotDecisionBoundary(theta, color):\n",
    "    # 因为六次多项式的函数图像很难直接画出来, 所以使用绘制等高线的方法, 最后只留z=0的等高线\n",
    "    steps = 50\n",
    "    uu = np.linspace(-1, 1.5, steps)\n",
    "    vv = np.linspace(-1, 1.5, steps)\n",
    "    u, v = np.meshgrid(uu,vv)\n",
    "    u = np.array(u.flatten())\n",
    "    v = np.array(v.flatten())\n",
    "    sample = np.c_[u, v]\n",
    "    sample = np.apply_along_axis(mapFeature, 1, sample)\n",
    "    z = sample.dot(theta)\n",
    "    z = z.reshape(50, 50)\n",
    "    plt.contour(uu, vv, z, [0], colors=color)  # [0]表示只绘制z为0的等高线\n",
    "\n",
    "xx = data2.iloc[:, 0:2].values\n",
    "yy = data2.iloc[:, 2:].values\n",
    "\n",
    "# 绘制y=1\n",
    "plt.scatter(xx[yy[:,0]==1, 0], xx[yy[:,0]==1, 1], c='b', marker='+', label='y=1')\n",
    "# 绘制y=0\n",
    "plt.scatter(xx[yy[:,0]==0, 0], xx[yy[:,0]==0, 1], c='y', marker='o', label='y=0')\n",
    "plt.ylim((-0.8, 1.2))\n",
    "plotDecisionBoundary(theta, 'green')\n",
    "\n",
    "plt.legend(loc='best')\n",
    "plt.show()"
   ]
  },
  {
   "cell_type": "code",
   "execution_count": 31,
   "metadata": {},
   "outputs": [
    {
     "name": "stdout",
     "output_type": "stream",
     "text": [
      "训练集准确率为:  0.8305084745762712\n"
     ]
    }
   ],
   "source": [
    "# 求当lambda为1求得的参数, 用于训练集的准确率\n",
    "probability = sigmoid(X.dot(theta))\n",
    "predict = probability > 0.5\n",
    "print('训练集准确率为: ', (predict == Y).sum() / len(Y))"
   ]
  },
  {
   "cell_type": "code",
   "execution_count": 22,
   "metadata": {},
   "outputs": [
    {
     "data": {
      "image/png": "[encoded data removed]",
      "text/plain": [
       "<Figure size 432x288 with 1 Axes>"
      ]
     },
     "metadata": {
      "needs_background": "light"
     },
     "output_type": "display_data"
    }
   ],
   "source": [
    "# 以下为选做\n",
    "# 当lambda为0时\n",
    "result = op.minimize(fun=costFunctionReg, x0=initial_theta.flatten(), args=(X, Y, 0), method='TNC', jac=gradientReg)\n",
    "theta0 = result['x'].reshape(28,1)\n",
    "# 当lambda为100时\n",
    "result = op.minimize(fun=costFunctionReg, x0=initial_theta.flatten(), args=(X, Y, 100), method='TNC', jac=gradientReg)\n",
    "theta100 = result['x'].reshape(28,1)\n",
    "\n",
    "# 绘制y=1\n",
    "plt.scatter(xx[yy[:,0]==1, 0], xx[yy[:,0]==1, 1], c='b', marker='+', label='y=1')\n",
    "# 绘制y=0\n",
    "plt.scatter(xx[yy[:,0]==0, 0], xx[yy[:,0]==0, 1], c='y', marker='o', label='y=0')\n",
    "plotDecisionBoundary(theta0, 'black')\n",
    "plotDecisionBoundary(theta100, 'green')\n",
    "plt.legend(loc='best')\n",
    "plt.show()\n",
    "\n",
    "# 绿线为lambda为100时的Decisio boundary, 黑线为lambda为0时的Decision boundary"
   ]
  }
 ],
 "metadata": {
  "kernelspec": {
   "display_name": "Python 3",
   "language": "python",
   "name": "python3"
  },
  "language_info": {
   "codemirror_mode": {
    "name": "ipython",
    "version": 3
   },
   "file_extension": ".py",
   "mimetype": "text/x-python",
   "name": "python",
   "nbconvert_exporter": "python",
   "pygments_lexer": "ipython3",
   "version": "3.7.1"
  }
 },
 "nbformat": 4,
 "nbformat_minor": 2
}
