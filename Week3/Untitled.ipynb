{
 "cells": [
  {
   "cell_type": "markdown",
   "metadata": {},
   "source": [
    "## Week3  逻辑回归(主要用于分类)\n",
    "- Sigmoid Function(Logistic Function)\n",
    "$$g(z)=\\frac{1}{1+e^{-z}}$$\n",
    "- Decision Boundary  \n",
    "将两类数据分开的函数  \n",
    "- Cost Function  \n",
    "使用该损失函数的[原因](https://blog.csdn.net/xiaoxiangzi222/article/details/55097570)  \n",
    "若使用线性的损失函数, 由于此时是Logistic Function, 会造成多个极值点, 容易到收敛到局部最小值.所以使用: \n",
    "$$J(\\theta)=\\frac{1}{m}\\sum_1^mCost(h_\\theta(x^{(i)}, y^{(i)})$$\n",
    "$$Cost(h_\\theta(x), y)=\\begin{cases}-log(h_\\theta(x))\\ \\ \\ if\\ y = 1\\\\\n",
    "                          -log(1-h_\\theta(x))\\ \\ \\ if\\ y = 0\\\\\n",
    "                          \\end{cases}$$\n",
    "该函数也可以写成:  \n",
    "$$J(\\theta)=-\\frac{1}{m}\\sum_1^m[y^{(i)}log(h_\\theta(x^{(i)}))+(1-y^{(i)})log(1-h_\\theta(x^{(i)}))]$$\n",
    "注意该损失函数是凸函数, 至于原因不知道............\n",
    "- 梯度下降  \n",
    "对该损失函数求导之后发现其导数与线性回归形式一致, 为:  \n",
    "$$\\theta_j = \\theta_j-\\frac{\\alpha}{m}\\sum_{i=1}^m(h_\\theta(x^{(i)})-y^{(i)})x_j^{(i)}$$\n",
    "向量化后为:  \n",
    "$$\\theta = \\theta - \\frac{\\alpha}{m}X^T(g(X\\theta)-\\vec y)$$\n",
    "- Conjugate gradient, BFGS, L-BFGS  \n",
    "三种比梯度下降法更快的求最优值方法, 且不需要设定学习率. 这三种方法一般调用库即可, 自己只需要编写损失函数以及损失函数的偏导函数.\n",
    "- 过拟合的解决办法  \n",
    "  1. 减少特征数量\n",
    "  2. 正则化(减少参数的量级)  在原有的损失函数加上 &nbsp; $\\lambda \\sum_{j=1}^n\\theta_j^2$  注意是从j=1开始, 因为$\\theta_0$对应的$x_0$都是1\n",
    "- 线性回归的正则化  \n",
    "将正则化加入损失函数, 求其导数整理后得: \n",
    "$$\\theta_0 = \\theta_0-\\alpha\\frac{1}{m}\\sum_{i=1}^m(h_\\theta(x^{(i)})-y^{(i)})x_0^{(i)}$$\n",
    "$$\\theta_j = \\theta_j(1-\\alpha\\frac{\\lambda}{m})-\\alpha\\frac{1}{m}\\sum_{i=1}^m(h_\\theta(x^{(i)})-y^{(i)})x_j^{(i)}$$\n",
    "别的都和之前的一样, 只是每次$\\theta$(除了$\\theta_0$)都会乘一个$1-\\alpha\\frac{\\lambda}{m}$, 易知该数为小于1的数  \n",
    "对于Normal Equation, 也有:  \n",
    "$$\\theta = (X^TX+\\lambda L)^{-1}X^Ty$$\n",
    "将一个(n+1) * (n+1)的单位矩阵, 第一个元素置为0, 即得到$L$. $X^TX$可能是奇异矩阵, 不可逆, 但是$X^TX+\\lambda L$将会是可逆的  \n",
    "- 逻辑回归正则化的损失函数的导数与线性回归的形式一致. (只是$h_\\theta(x^{(i)}不同$)\n"
   ]
  },
  {
   "cell_type": "code",
   "execution_count": 108,
   "metadata": {},
   "outputs": [
    {
     "name": "stdout",
     "output_type": "stream",
     "text": [
      "      score1     score2  admitted\n",
      "0  34.623660  78.024693         0\n",
      "1  30.286711  43.894998         0\n",
      "2  35.847409  72.902198         0\n",
      "3  60.182599  86.308552         1\n",
      "4  79.032736  75.344376         1\n"
     ]
    }
   ],
   "source": [
    "%matplotlib inline\n",
    "import numpy as np\n",
    "import pandas as pd\n",
    "import matplotlib.pyplot as plt\n",
    "# 读入数据, 特征为两次考试分数  标签为是否被大学承认\n",
    "data1 = pd.read_csv('data/ex2data1.txt', names=['score1', 'score2', 'admitted'])\n",
    "print(data1.head())"
   ]
  },
  {
   "cell_type": "code",
   "execution_count": 125,
   "metadata": {},
   "outputs": [
    {
     "data": {
      "image/png": "[encoded data removed]",
      "text/plain": [
       "<Figure size 432x288 with 1 Axes>"
      ]
     },
     "metadata": {
      "needs_background": "light"
     },
     "output_type": "display_data"
    }
   ],
   "source": [
    "# 使用X保存两次分数, Y保存对应label\n",
    "X = data1.iloc[:, :-1].values\n",
    "Y = data1.iloc[:, [-1]].values\n",
    "# label 为1的成绩\n",
    "pos = X[Y[:,0]==1, :]\n",
    "# label 为0的成绩\n",
    "nag = X[Y[:,0]==0, :]\n",
    "plt.scatter(pos[:,0], pos[:,1], c='r', marker='+', label='Admitted')\n",
    "plt.scatter(nag[:,0], nag[:,1], c='b', marker='x', label='Not admitted')\n",
    "plt.ylabel('Exam 2 score')\n",
    "plt.xlabel('Exam 1 score')\n",
    "plt.xlim([30,100])\n",
    "plt.ylim([30,100])\n",
    "plt.legend(loc='best')\n",
    "plt.show()"
   ]
  },
  {
   "cell_type": "code",
   "execution_count": 123,
   "metadata": {},
   "outputs": [],
   "source": [
    "# 初始化\n",
    "initial_theta = np.zeros((3,1))\n",
    "m = len(Y)\n",
    "X = np.c_[np.ones(m), X]"
   ]
  },
  {
   "cell_type": "code",
   "execution_count": 121,
   "metadata": {},
   "outputs": [
    {
     "name": "stdout",
     "output_type": "stream",
     "text": [
      "[0. 0. 0.]\n"
     ]
    }
   ],
   "source": [
    "print(X[0]*initial_theta[:, 0])"
   ]
  },
  {
   "cell_type": "code",
   "execution_count": 124,
   "metadata": {},
   "outputs": [
    {
     "ename": "ValueError",
     "evalue": "shapes (100,4) and (3,1) not aligned: 4 (dim 1) != 3 (dim 0)",
     "output_type": "error",
     "traceback": [
      "\u001b[0;31m---------------------------------------------------------------------------\u001b[0m",
      "\u001b[0;31mValueError\u001b[0m                                Traceback (most recent call last)",
      "\u001b[0;32m<ipython-input-124-6918f8f43a9d>\u001b[0m in \u001b[0;36m<module>\u001b[0;34m()\u001b[0m\n\u001b[1;32m     20\u001b[0m     \u001b[0mres\u001b[0m \u001b[0;34m*=\u001b[0m \u001b[0;36m1\u001b[0m\u001b[0;34m/\u001b[0m\u001b[0mm\u001b[0m\u001b[0;34m\u001b[0m\u001b[0;34m\u001b[0m\u001b[0m\n\u001b[1;32m     21\u001b[0m     \u001b[0;32mreturn\u001b[0m \u001b[0mres\u001b[0m\u001b[0;34m\u001b[0m\u001b[0;34m\u001b[0m\u001b[0m\n\u001b[0;32m---> 22\u001b[0;31m \u001b[0mprint\u001b[0m\u001b[0;34m(\u001b[0m\u001b[0mCost\u001b[0m\u001b[0;34m(\u001b[0m\u001b[0mX\u001b[0m\u001b[0;34m,\u001b[0m \u001b[0mY\u001b[0m\u001b[0;34m,\u001b[0m \u001b[0minitial_theta\u001b[0m\u001b[0;34m)\u001b[0m\u001b[0;34m)\u001b[0m\u001b[0;34m\u001b[0m\u001b[0;34m\u001b[0m\u001b[0m\n\u001b[0m\u001b[1;32m     23\u001b[0m \u001b[0mprint\u001b[0m\u001b[0;34m(\u001b[0m\u001b[0mGradient2\u001b[0m\u001b[0;34m(\u001b[0m\u001b[0mX\u001b[0m\u001b[0;34m,\u001b[0m \u001b[0mY\u001b[0m\u001b[0;34m,\u001b[0m \u001b[0minitial_theta\u001b[0m\u001b[0;34m)\u001b[0m\u001b[0;34m)\u001b[0m\u001b[0;34m\u001b[0m\u001b[0;34m\u001b[0m\u001b[0m\n",
      "\u001b[0;32m<ipython-input-124-6918f8f43a9d>\u001b[0m in \u001b[0;36mCost\u001b[0;34m(X, Y, theta)\u001b[0m\n\u001b[1;32m      3\u001b[0m \u001b[0;32mdef\u001b[0m \u001b[0mCost\u001b[0m\u001b[0;34m(\u001b[0m\u001b[0mX\u001b[0m\u001b[0;34m,\u001b[0m \u001b[0mY\u001b[0m\u001b[0;34m,\u001b[0m \u001b[0mtheta\u001b[0m\u001b[0;34m)\u001b[0m\u001b[0;34m:\u001b[0m\u001b[0;34m\u001b[0m\u001b[0;34m\u001b[0m\u001b[0m\n\u001b[1;32m      4\u001b[0m     \u001b[0;31m# X为m*n Y为m*1 theta为n*1\u001b[0m\u001b[0;34m\u001b[0m\u001b[0;34m\u001b[0m\u001b[0;34m\u001b[0m\u001b[0m\n\u001b[0;32m----> 5\u001b[0;31m     \u001b[0;32mreturn\u001b[0m \u001b[0;34m-\u001b[0m\u001b[0;36m1\u001b[0m\u001b[0;34m/\u001b[0m\u001b[0mlen\u001b[0m\u001b[0;34m(\u001b[0m\u001b[0mY\u001b[0m\u001b[0;34m)\u001b[0m\u001b[0;34m*\u001b[0m\u001b[0;34m(\u001b[0m\u001b[0;34m(\u001b[0m\u001b[0mnp\u001b[0m\u001b[0;34m.\u001b[0m\u001b[0mlog\u001b[0m\u001b[0;34m(\u001b[0m\u001b[0msigmoid_func\u001b[0m\u001b[0;34m(\u001b[0m\u001b[0mX\u001b[0m\u001b[0;34m.\u001b[0m\u001b[0mdot\u001b[0m\u001b[0;34m(\u001b[0m\u001b[0mtheta\u001b[0m\u001b[0;34m)\u001b[0m\u001b[0;34m)\u001b[0m\u001b[0;34m)\u001b[0m\u001b[0;34m*\u001b[0m\u001b[0mY\u001b[0m\u001b[0;34m)\u001b[0m\u001b[0;34m.\u001b[0m\u001b[0msum\u001b[0m\u001b[0;34m(\u001b[0m\u001b[0;34m)\u001b[0m \u001b[0;34m+\u001b[0m \u001b[0;34m(\u001b[0m\u001b[0mnp\u001b[0m\u001b[0;34m.\u001b[0m\u001b[0mlog\u001b[0m\u001b[0;34m(\u001b[0m\u001b[0;36m1\u001b[0m\u001b[0;34m-\u001b[0m\u001b[0msigmoid_func\u001b[0m\u001b[0;34m(\u001b[0m\u001b[0mX\u001b[0m\u001b[0;34m.\u001b[0m\u001b[0mdot\u001b[0m\u001b[0;34m(\u001b[0m\u001b[0mtheta\u001b[0m\u001b[0;34m)\u001b[0m\u001b[0;34m)\u001b[0m\u001b[0;34m)\u001b[0m\u001b[0;34m*\u001b[0m\u001b[0;34m(\u001b[0m\u001b[0;36m1.0\u001b[0m\u001b[0;34m-\u001b[0m\u001b[0mY\u001b[0m\u001b[0;34m)\u001b[0m\u001b[0;34m)\u001b[0m\u001b[0;34m.\u001b[0m\u001b[0msum\u001b[0m\u001b[0;34m(\u001b[0m\u001b[0;34m)\u001b[0m\u001b[0;34m)\u001b[0m\u001b[0;34m\u001b[0m\u001b[0;34m\u001b[0m\u001b[0m\n\u001b[0m\u001b[1;32m      6\u001b[0m \u001b[0;32mdef\u001b[0m \u001b[0mGradient\u001b[0m\u001b[0;34m(\u001b[0m\u001b[0mX\u001b[0m\u001b[0;34m,\u001b[0m \u001b[0mY\u001b[0m\u001b[0;34m,\u001b[0m \u001b[0mtheta\u001b[0m\u001b[0;34m)\u001b[0m\u001b[0;34m:\u001b[0m\u001b[0;34m\u001b[0m\u001b[0;34m\u001b[0m\u001b[0m\n\u001b[1;32m      7\u001b[0m     \u001b[0;31m# X为m*n Y为m*1 theta为n*1\u001b[0m\u001b[0;34m\u001b[0m\u001b[0;34m\u001b[0m\u001b[0;34m\u001b[0m\u001b[0m\n",
      "\u001b[0;31mValueError\u001b[0m: shapes (100,4) and (3,1) not aligned: 4 (dim 1) != 3 (dim 0)"
     ]
    }
   ],
   "source": [
    "# 定义sigmoid函数, Cost函数和Gradient\n",
    "sigmoid_func = lambda x: 1/(1+np.exp(-x))\n",
    "def Cost(X, Y, theta):\n",
    "    # X为m*n Y为m*1 theta为n*1\n",
    "    return -1/len(Y)*((np.log(sigmoid_func(X.dot(theta)))*Y).sum() + (np.log(1-sigmoid_func(X.dot(theta)))*(1.0-Y)).sum())\n",
    "def Gradient(X, Y, theta):\n",
    "    # X为m*n Y为m*1 theta为n*1\n",
    "    print(len(Y))\n",
    "    print(X.dtype)\n",
    "    print(Y.dtype)\n",
    "    k = sigmoid_func(X.dot(theta)) - Y\n",
    "    print(k.shape)\n",
    "    return 1.0/len(Y)*np.dot(X.T, sigmoid_func(X.dot(theta)) - Y)\n",
    "def Gradient2(X, Y, theta):\n",
    "    res = np.zeros((3,1))\n",
    "    m = len(Y)\n",
    "    for j in range(3):\n",
    "        for i in range(m):\n",
    "            res[j][0] += sigmoid_func((X[i]*theta[:, 0]).sum()-Y[i][0])*X[i][j]\n",
    "    res *= 1/m\n",
    "    return res\n",
    "print(Cost(X, Y, initial_theta))\n",
    "print(Gradient2(X, Y, initial_theta))"
   ]
  },
  {
   "cell_type": "code",
   "execution_count": null,
   "metadata": {},
   "outputs": [],
   "source": []
  }
 ],
 "metadata": {
  "kernelspec": {
   "display_name": "Python 3",
   "language": "python",
   "name": "python3"
  },
  "language_info": {
   "codemirror_mode": {
    "name": "ipython",
    "version": 3
   },
   "file_extension": ".py",
   "mimetype": "text/x-python",
   "name": "python",
   "nbconvert_exporter": "python",
   "pygments_lexer": "ipython3",
   "version": "3.7.1"
  }
 },
 "nbformat": 4,
 "nbformat_minor": 2
}
