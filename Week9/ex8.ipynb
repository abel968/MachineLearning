{
 "cells": [
  {
   "cell_type": "markdown",
   "metadata": {},
   "source": [
    "# Week9 异常检测和推荐系统\n",
    "- 高斯分布\n",
    "$$p(x;\\mu, \\sigma^2)=\\frac{1}{\\sqrt{2\\pi}\\sigma}exp(-\\frac{(x-\\mu)^2}{2\\sigma^2})$$\n",
    "- 异常检测算法\n",
    "  1. 选择你认为可以代表异常的特征\n",
    "  2. 根据训练集计算参数$\\mu$和$\\sigma$\n",
    "      $$\\mu_j=\\frac{1}{m}\\sum_{i=1}^{m}x_j^{(i)}$$\n",
    "      $$\\sigma_j^2=\\frac{1}{m}\\sum_{i=1}^m(x_j^{(i)}-\\mu_j)^2$$\n",
    "  3. 对于测试集某个样本x, 计算p(x):\n",
    "      $$p(x)=\\prod_{j=1}^np(x_j;\\mu_j,\\sigma_j^2)=\\prod_{j=1}^n\\frac{1}{\\sqrt{2\\pi}\\sigma_j}exp(-\\frac{(x_j-\\mu_j)^2}{2\\sigma_j^2})$$\n",
    "     当p(x)小于自己设定的$\\varepsilon$认为该样本异常\n",
    "- 异常检测算法示例  \n",
    "  若有10000个good样本, 20个异常样本; 则训练集为6000个good样本, CV集为2000good样本和10个异常样本, Test集为2000good样本和10个异常样本  \n",
    "  评估该算法的方法(求准确率的方法不适用, 因为异常值较小, 只需要预测所有都为正常值即可得到较高的准确率):\n",
    "      1. True positive, false positive, false negative, true negative\n",
    "      2. Precision/Recall\n",
    "      3. F1-score\n",
    "- 异常检测和监督学习的区别: 异常检测适用于正例很少, 反例很多的情况; 监督学习适用于正反例都很多的情况.\n",
    "- 选择合适的特征  \n",
    "  异常检测算法是假设特征为高斯分布, 所以先用dist画出特征的直方图, 观察其是否满足高斯分布. 若不满足则需要经过一定的转换, 如: $log(x1)$,  $log(x_2+1)$, $\\sqrt{x_3}$, $x_4^{\\frac{1}{3}}$  \n",
    "  一个好的特征应该是p(x)对于正常样本较大, 对于异常样本很小  \n",
    "  选择的特征应该是在异常样本中不同寻常的大或小\n",
    "- 多维高斯分布下的异常检测算法\n",
    "  $$p(x;\\mu, \\Sigma)=\\frac{1}{(2\\pi)^{\\frac{n}{2}}|\\Sigma|^{\\frac{1}{2}}}exp(-\\frac{1}{2}(x-\\mu)^T\\Sigma^{-1}(x-\\mu))$$\n",
    "  $$\\mu=\\frac{1}{m}\\sum_{i=1}^mx^{(i)}$$\n",
    "  $$\\Sigma=\\frac{1}{m}\\sum_{i=1}^m(x^{(i)}-\\mu)(x^{(i)}-\\mu)^T$$  \n",
    "  $\\Sigma$为各个特征之间的协方差矩阵, 对角线上的值为各个特征的方差, 其余元素为特征之间的相关性, 越大则其越为线性.\n",
    "## 推荐系统  \n",
    "- 基于内容的推荐(如对于电影推荐来说, 已知用户对于一些电影的评分, 给用户推荐电影)  \n",
    "  基于内容的意思是已知电影的特征$x$, 代表各个方面的程度(如动作, 爱情), 然后根据用户的评分为每一位用户训练$\\theta$, 即:  \n",
    "  learn$\\theta^{(j)}$(用户j的参数, r(i,j)=1表示用户j对电影i有评分): \n",
    "  $$\\min_{\\theta^{(j)}}\\frac{1}{2}\\sum_{i:r(i,j)=1}((\\theta^{(j)})^Tx^{(i)}-y^{(i,j)})^2+\\frac{\\lambda}{2}\\sum_{k=1}^{n}(\\theta_k^{(j)})^2$$  \n",
    "  该方法和线性回归差不多, 只是少了一个$\\frac{1}{m}$项\n",
    "- 协同滤波(该方法可以自行学习所要使用的特征)\n",
    "  该方法的主要思想是: 可以根据用户的评分来学习电影的特征. 也就是说既可以根据$x$学习$\\theta$, 也可以根据$\\theta$学习$x$. 可以一开始随机猜测出$\\theta$的值, 然后迭代的学习$x$, $\\theta$, $x$, $\\theta$, $x$.......  \n",
    "  设$n_m$为电影数目, $n_u$为用户数目  \n",
    "  Given $x^{(1)}, ..., x^{n_m}$, 估计$\\theta^{(1)}, ..., \\theta^{(n_u)}$:\n",
    "  $$min_{\\theta^{(1)}, ..., \\theta^{(n_u)}}\\frac{1}{2}\\sum_{j=1}^{n_u}\\sum_{i:r(i,j)=1}((\\theta^{(j)})^Tx^{(i)}-y^{(i,j)})^2+\\frac{\\lambda}{2}\\sum_{j=1}^{n_u}\\sum_{k=1}^{n}(\\theta_k^{(j)})^2$$ \n",
    "  Given $\\theta^{(1)}, ..., \\theta^{(n_u)}$, 估计$x^{(1)}, ..., x^{n_m}$:  \n",
    "  $$min_{x^{(1)}, ..., x^{n_m}}\\frac{1}{2}\\sum_{i=1}^{n_m}\\sum_{j:r(i,j)=1}((\\theta^{(j)})^Tx^{(i)}-y^{(i,j)})^2+\\frac{\\lambda}{2}\\sum_{i=1}^{n_m}\\sum_{k=1}^{n}(x_k^{(i)})^2$$  \n",
    "  可以将上面两个步骤合并, Minimizing $\\theta^{(1)}, ..., \\theta^{(n_u)}$ 和$x^{(1)}, ..., x^{n_m}$ simultaneously:\n",
    "  $$J(\\theta^{(1)}, ..., \\theta^{(n_u)}, x^{(1)}, ..., x^{n_m})=\\frac{1}{2}\\sum_{i,j:r(i,j)=1}((\\theta^{(j)})^Tx^{(i)}-y^{(i,j)})^2+\\frac{\\lambda}{2}\\sum_{i=1}^{n_m}\\sum_{k=1}^{n}(x_k^{(i)})^2+\\frac{\\lambda}{2}\\sum_{j=1}^{n_u}\\sum_{k=1}^{n}(\\theta_k^{(j)})^2$$\n",
    "- 协同滤波算法步骤  \n",
    "  1. 随机初始化$\\theta^{(1)}, ..., \\theta^{(n_u)}, x^{(1)}, ..., x^{n_m}$\n",
    "  2. 使用梯度下降法或别的advanced optimization algorithm得到使损失函数最小的参数(注意没有$x_0$, 也就没有$\\theta_0$)\n",
    "  $$x_k^{(i)}:=x_k^{(i)}-\\alpha(\\sum_{j:r(i,j)=1}((\\theta^{(j)})^Tx^{(i)}-y^{(i,j)})\\theta_k^{(j)}+\\lambda x_k^{(i)})$$  \n",
    "  $$\\theta_k^{(j)}:=\\theta_k^{(j)}-\\alpha(\\sum_{i:r(i,j)=1}((\\theta^{(j)})^Tx^{(i)}-y^{(i,j)})x_k^{(j)}+\\lambda \\theta_k^{(i)})$$  \n",
    "- 低秩矩阵分解  \n",
    "  ..........懒得写了....低秩矩阵分解 视频 Vectorization: Low Rank Matrix Factorization\n",
    "  Y矩阵为一个$n_m*n_u$的矩阵, 第i行第j列的元素表示第j个用户对第i个电影的评价, 若未评价则为问号.  \n",
    "  均值归一化会让算法运行的更好(因为当用户j没有对任何电影评分时, 其参数$\\theta^{(j)}$最后将全为0, 则其对每一部电影的预测评价都为0, 此时将无法推荐. 而均值归一化后, 每个预测值都需要加电影评分的平均值, 此时对于一个新用户即可根据电影的平均评分给其推荐):    \n",
    "  $\\mu$向量为$n_m*1$的矩阵, 第i行表示第i个电影的评价均值(没有评分的user_item即问号不计入均值计算)  \n",
    "  使用$Y-\\mu$进行学习参数.  \n",
    "  预测时, 对于user j, movie i, 预测评分为$(\\theta^{(j)})^T(x^{(i)})+\\mu_i$\n",
    "   "
   ]
  },
  {
   "cell_type": "code",
   "execution_count": 1,
   "metadata": {},
   "outputs": [],
   "source": [
    "%matplotlib inline\n",
    "import numpy as np\n",
    "import pandas as pd\n",
    "import matplotlib.pyplot as plt\n",
    "import scipy.io as sio\n",
    "import math"
   ]
  },
  {
   "cell_type": "code",
   "execution_count": 5,
   "metadata": {},
   "outputs": [],
   "source": [
    "data1 = sio.loadmat('data/ex8data1.mat')\n",
    "X1 = data1['X']\n",
    "Xval1 = data1['Xval']\n",
    "yval1 = data1['yval']"
   ]
  },
  {
   "cell_type": "code",
   "execution_count": 7,
   "metadata": {},
   "outputs": [
    {
     "name": "stdout",
     "output_type": "stream",
     "text": [
      "(307, 2)\n",
      "(307, 2)\n",
      "(307, 1)\n"
     ]
    }
   ],
   "source": [
    "print(X1.shape)\n",
    "print(Xval1.shape)\n",
    "print(yval1.shape)"
   ]
  },
  {
   "cell_type": "code",
   "execution_count": 9,
   "metadata": {},
   "outputs": [
    {
     "data": {
      "text/plain": [
       "Text(0, 0.5, 'Throuhput (mb/s)')"
      ]
     },
     "execution_count": 9,
     "metadata": {},
     "output_type": "execute_result"
    },
    {
     "data": {
      "image/png": "[encoded data removed]",
      "text/plain": [
       "<Figure size 432x288 with 1 Axes>"
      ]
     },
     "metadata": {
      "needs_background": "light"
     },
     "output_type": "display_data"
    }
   ],
   "source": [
    "plt.scatter(X1[:, 0], X1[:, 1], c='b', marker='x')\n",
    "plt.axis([0, 30, 0, 30])\n",
    "plt.xlabel('Latency (ms)')\n",
    "plt.ylabel('Throuhput (mb/s)')"
   ]
  },
  {
   "cell_type": "code",
   "execution_count": null,
   "metadata": {},
   "outputs": [],
   "source": [
    "# Part 2: Estimate the dataset statistics\n",
    "def estimateGaussian(X):\n",
    "    return X.mean(), X.std()\n"
   ]
  }
 ],
 "metadata": {
  "kernelspec": {
   "display_name": "Python 3",
   "language": "python",
   "name": "python3"
  },
  "language_info": {
   "codemirror_mode": {
    "name": "ipython",
    "version": 3
   },
   "file_extension": ".py",
   "mimetype": "text/x-python",
   "name": "python",
   "nbconvert_exporter": "python",
   "pygments_lexer": "ipython3",
   "version": "3.7.1"
  }
 },
 "nbformat": 4,
 "nbformat_minor": 2
}
