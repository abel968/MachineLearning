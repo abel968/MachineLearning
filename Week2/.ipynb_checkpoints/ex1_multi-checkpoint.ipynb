{
 "cells": [
  {
   "cell_type": "code",
   "execution_count": 1,
   "metadata": {},
   "outputs": [
    {
     "name": "stdout",
     "output_type": "stream",
     "text": [
      "Populating the interactive namespace from numpy and matplotlib\n"
     ]
    }
   ],
   "source": [
    "%pylab inline\n",
    "import numpy as np\n",
    "import pandas as pd\n",
    "import matplotlib.pyplot as plt"
   ]
  },
  {
   "cell_type": "code",
   "execution_count": 60,
   "metadata": {},
   "outputs": [
    {
     "name": "stdout",
     "output_type": "stream",
     "text": [
      "   size  bedroom\n",
      "0  2104        3\n",
      "1  1600        3\n",
      "2  2400        3\n",
      "3  1416        2\n",
      "4  3000        4\n",
      "0    399900\n",
      "1    329900\n",
      "2    369000\n",
      "3    232000\n",
      "4    539900\n",
      "Name: price, dtype: int64\n"
     ]
    }
   ],
   "source": [
    "# 导入数据\n",
    "data = pd.read_csv('data/ex1data2.txt', names=['size', 'bedroom', 'price'])\n",
    "X = data.iloc[:, :-1]\n",
    "Y = data.iloc[:, -1]\n",
    "print(X.head())\n",
    "print(Y.head())"
   ]
  },
  {
   "cell_type": "code",
   "execution_count": 3,
   "metadata": {
    "scrolled": true
   },
   "outputs": [
    {
     "name": "stdout",
     "output_type": "stream",
     "text": [
      "       size   bedroom  x0\n",
      "0  0.130010 -0.223675   1\n",
      "1 -0.504190 -0.223675   1\n",
      "2  0.502476 -0.223675   1\n",
      "3 -0.735723 -1.537767   1\n",
      "4  1.257476  1.090417   1\n"
     ]
    }
   ],
   "source": [
    "# Feature Scaling\n",
    "X_mean = X.mean()\n",
    "X_std = X.std()\n",
    "X = X.apply(lambda x: (x-np.mean(x))/np.std(x, ddof=1) )  #注意这里的标准差应为样本标准差, 所以设置参数ddof为1\n",
    "X['x0'] = 1\n",
    "# X.reindex(columns = ['x0', 'size', 'bedroom'])\n",
    "print(X.head())"
   ]
  },
  {
   "cell_type": "markdown",
   "metadata": {},
   "source": [
    "### 用梯度下降法求参数"
   ]
  },
  {
   "cell_type": "code",
   "execution_count": 4,
   "metadata": {},
   "outputs": [
    {
     "name": "stdout",
     "output_type": "stream",
     "text": [
      "[[ 1.04127516e+05]\n",
      " [-1.72205334e+02]\n",
      " [ 3.38658249e+05]]\n",
      "2062961418.0859683\n"
     ]
    }
   ],
   "source": [
    "def gradientDescentMulti(X, Y, theta, alpha, num_iters):\n",
    "    # X is 47*3 ; Y is 47*1, ; theta 3*1\n",
    "    assert Y.ndim == 2\n",
    "    J_history = np.zeros(num_iters)\n",
    "    m = len(Y)\n",
    "    for i in range(num_iters):\n",
    "        theta = theta - alpha * (X.T.dot(np.dot(X, theta)-Y))/m\n",
    "        J_history[i] = ((np.dot(X, theta) - Y) ** 2).sum() / (2*m)\n",
    "    return theta, J_history\n",
    "\n",
    "alpha = 0.1    # 此处本来为0.01, 通过观察下面生成的图, 选择了更好的学习率0.1\n",
    "num_iters = 50\n",
    "theta = np.zeros((3,1))\n",
    "theta, J_history = gradientDescentMulti(X.values, Y.values.reshape(len(Y),1), theta, alpha, num_iters)\n",
    "print(theta)\n",
    "print(J_history[-1])"
   ]
  },
  {
   "cell_type": "code",
   "execution_count": 5,
   "metadata": {},
   "outputs": [
    {
     "data": {
      "text/plain": [
       "[<matplotlib.lines.Line2D at 0x7fa4d9472a90>]"
      ]
     },
     "execution_count": 5,
     "metadata": {},
     "output_type": "execute_result"
    },
    {
     "data": {
      "image/png": "[encoded data removed]",
      "text/plain": [
       "<Figure size 432x288 with 1 Axes>"
      ]
     },
     "metadata": {
      "needs_background": "light"
     },
     "output_type": "display_data"
    }
   ],
   "source": [
    "plt.plot(range(len(J_history)), J_history)"
   ]
  },
  {
   "cell_type": "markdown",
   "metadata": {},
   "source": [
    "### Normal Equations"
   ]
  },
  {
   "cell_type": "code",
   "execution_count": 64,
   "metadata": {},
   "outputs": [
    {
     "name": "stdout",
     "output_type": "stream",
     "text": [
      "[[  139.21067402]\n",
      " [-8738.01911233]\n",
      " [89597.9095428 ]]\n"
     ]
    }
   ],
   "source": [
    "def normalEqn(A,Y):\n",
    "    return np.linalg.inv((A.T.dot(A))).dot(A.T).dot(Y)\n",
    "X_ = data.iloc[:, :-1]\n",
    "X_['x0'] = 1\n",
    "theta_normal = normalEqn(X_.values, Y.values.reshape(len(Y),1))\n",
    "print(theta_normal)"
   ]
  },
  {
   "cell_type": "code",
   "execution_count": 71,
   "metadata": {},
   "outputs": [
    {
     "name": "stdout",
     "output_type": "stream",
     "text": [
      "Gra_Y: [292748.08400018]\n",
      "Nor_Y: [293081.4643349]\n"
     ]
    }
   ],
   "source": [
    "# 两种方法的预测.\n",
    "pre_X = np.array([1650, 3, 1], dtype = float32)\n",
    "pre_X_ = pre_X.copy()   # Normal Equations的X, 不需要归一化\n",
    "pre_X[:-1] = (pre_X[:-1]-X_mean.values) / X_std.values   # 需要做和训练集相同的归一化.\n",
    "\n",
    "Gra_Y = pre_X.dot(theta)\n",
    "Nor_Y = pre_X_.dot(theta_normal)\n",
    "print('Gra_Y: {}'.format(Gra_Y))\n",
    "print('Nor_Y: {}'.format(Nor_Y))"
   ]
  },
  {
   "cell_type": "code",
   "execution_count": 61,
   "metadata": {},
   "outputs": [
    {
     "name": "stdout",
     "output_type": "stream",
     "text": [
      "   size  bedroom   price\n",
      "0  2104        3  399900\n",
      "1  1600        3  329900\n",
      "2  2400        3  369000\n",
      "3  1416        2  232000\n",
      "4  3000        4  539900\n"
     ]
    }
   ],
   "source": [
    "\n",
    "print(data.head())\n"
   ]
  }
 ],
 "metadata": {
  "kernelspec": {
   "display_name": "Python 3",
   "language": "python",
   "name": "python3"
  },
  "language_info": {
   "codemirror_mode": {
    "name": "ipython",
    "version": 3
   },
   "file_extension": ".py",
   "mimetype": "text/x-python",
   "name": "python",
   "nbconvert_exporter": "python",
   "pygments_lexer": "ipython3",
   "version": "3.7.1"
  }
 },
 "nbformat": 4,
 "nbformat_minor": 2
}
