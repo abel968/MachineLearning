{
 "cells": [
  {
   "cell_type": "code",
   "execution_count": 2,
   "metadata": {},
   "outputs": [],
   "source": [
    "%matplotlib inline\n",
    "import numpy as np\n",
    "import pandas as pd\n",
    "import matplotlib.pyplot as plt\n",
    "import scipy.io as sio\n",
    "import math\n",
    "import scipy.optimize as op\n",
    "\n",
    "input_layer_size = 400\n",
    "num_labels = 10\n",
    "# 读入数据\n",
    "data = sio.loadmat('data/ex3data1.mat')\n",
    "X = data['X']\n",
    "Y = data['y']"
   ]
  },
  {
   "cell_type": "code",
   "execution_count": 4,
   "metadata": {},
   "outputs": [],
   "source": [
    "# 读入给定的参数矩阵\n",
    "theta = sio.loadmat('data/ex3weights.mat')\n",
    "theta1 = theta['Theta1']\n",
    "theta2 = theta['Theta2']"
   ]
  },
  {
   "cell_type": "code",
   "execution_count": 5,
   "metadata": {
    "scrolled": true
   },
   "outputs": [
    {
     "name": "stdout",
     "output_type": "stream",
     "text": [
      "(5000, 400)\n",
      "(5000, 1)\n",
      "(25, 401)\n",
      "(10, 26)\n"
     ]
    }
   ],
   "source": [
    "print(X.shape)\n",
    "print(Y.shape)\n",
    "print(theta1.shape)\n",
    "print(theta2.shape)"
   ]
  },
  {
   "cell_type": "code",
   "execution_count": 11,
   "metadata": {},
   "outputs": [],
   "source": [
    "sigmoid = lambda x : 1.0/(1.0+np.exp(-x))\n",
    "def predict(theta1, theta2, X):\n",
    "    # 返回一个m维的向量, 表示每个样本所表示的数字  1-10\n",
    "    m, n = X.shape\n",
    "    x_ = np.c_[np.ones(m), X]  # m*(n+1)\n",
    "    hidden = sigmoid(x_.dot(theta1.T))  # m*25\n",
    "    hidden = np.c_[np.ones(m), hidden]\n",
    "    y_ = sigmoid(hidden.dot(theta2.T))\n",
    "    return y_.argmax(axis=1) + 1\n",
    "    "
   ]
  },
  {
   "cell_type": "code",
   "execution_count": 12,
   "metadata": {},
   "outputs": [
    {
     "name": "stdout",
     "output_type": "stream",
     "text": [
      "0.9752\n"
     ]
    }
   ],
   "source": [
    "# 计算在训练集中的准确率\n",
    "print((predict(theta1, theta2, X) == Y.flatten()).sum() / len(Y))"
   ]
  }
 ],
 "metadata": {
  "kernelspec": {
   "display_name": "Python 3",
   "language": "python",
   "name": "python3"
  },
  "language_info": {
   "codemirror_mode": {
    "name": "ipython",
    "version": 3
   },
   "file_extension": ".py",
   "mimetype": "text/x-python",
   "name": "python",
   "nbconvert_exporter": "python",
   "pygments_lexer": "ipython3",
   "version": "3.7.1"
  }
 },
 "nbformat": 4,
 "nbformat_minor": 2
}
